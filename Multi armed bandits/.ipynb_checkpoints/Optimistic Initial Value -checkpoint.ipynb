{
 "cells": [
  {
   "cell_type": "markdown",
   "metadata": {},
   "source": [
    "# Optimistic initial values (A k-armed bandit problem)\n",
    "by __Shivangi Agarwal and Sandeep Banik__ | Reinforcement Learning"
   ]
  },
  {
   "cell_type": "markdown",
   "metadata": {},
   "source": [
    "In the k-armed bandit problem, it was shown how to estimate $Q(a)$ values for each bandit and the corresponding lever/action $(a)$. However, it is observed that the estimates are biased on the initial values. This is explained below by expanding the update of each estimate."
   ]
  },
  {
   "cell_type": "markdown",
   "metadata": {},
   "source": [
    "<img src=\"OIV-inital bias.png\">"
   ]
  },
  {
   "cell_type": "markdown",
   "metadata": {},
   "source": [
    "Although the use of sample average ($\\alpha = \\frac{1}{n}$) helps in rectifying the bias issue, however for a general constant step-size $\\alpha$ the initial values need to be dealt with. Here we show that picking an inital value can lead to exploration.  "
   ]
  },
  {
   "cell_type": "markdown",
   "metadata": {},
   "source": [
    "To simply our life let us assume that for the k-armed bandit, we see that the $q_{*}$ were selected randomly from a uniform distribution with a mean of 0 and variance 1. That means that the expected value of the actual reward we achieved by selecting a lever will be between -1 and 1 and a variance of 1 about that mean. Let us say for a 5 armed bandit, the mean of the rewards are 0.1, 0.2, 0.3, 0.4 and 0.5 respectively.  \n",
    "\n",
    "Now optimistic inital value states that, we assume some really 'optimistic value' let's say 5 for each of the 5 arms. If we select such a value we can observe that this is much higher than what value we know about the arms. Let us begin playing the slot machine being greedy about our $Q$ values. "
   ]
  },
  {
   "cell_type": "markdown",
   "metadata": {},
   "source": [
    "<img src=\"OIV-5armed-bandit.png\">"
   ]
  },
  {
   "cell_type": "markdown",
   "metadata": {},
   "source": [
    "You can see that the first time it played it chose the action 1 and it got disappointed and picked another lever to expect a better reward. The optimistic inital approach naturally choses to explore all possible actions. The technique is called encouraging exploration optimistic initial value. However this technique is not suited for non-stationary problems because the exploration as observed is present only in the beginning. In a non-stionary problem the mean of the reward might change over time demanding exploration at a later on stage."
   ]
  },
  {
   "cell_type": "code",
   "execution_count": 1,
   "metadata": {},
   "outputs": [],
   "source": [
    "import numpy as np\n",
    "import matplotlib.pyplot as plt"
   ]
  },
  {
   "cell_type": "code",
   "execution_count": 2,
   "metadata": {},
   "outputs": [],
   "source": [
    "#%%Initialisations\n",
    "#total number of bandit arms\n",
    "n = 10\n",
    "\n",
    "#total number of experiments\n",
    "t = 1000\n",
    "\n",
    "#probability of random exploration(fraction)\n",
    "epsilon = []\n",
    "epsilon = [0,0.1]\n",
    "\n",
    "#number of bandits(episodes)\n",
    "bandit_number = 200\n",
    "\n",
    "#current value estimate of action\n",
    "Q = np.zeros((bandit_number,n))\n",
    "init_value = 5.0\n",
    "Q_opt = np.full((bandit_number,n),5.0)\n",
    "#Q_opt = np.asarray([[init_value for column in range(n)] for row in range(bandit_number)])\n",
    "Q_greedy = np.zeros((bandit_number,n))\n",
    "\n",
    "#number of times an action was chosen for each bandit\n",
    "N = np.zeros((bandit_number,n))\n",
    "\n",
    "#optimal action that should be chosen for each bandit\n",
    "a_opt = np.zeros((bandit_number,n))\n",
    "\n",
    "#initial same values to all the arms\n",
    "Q_star = np.random.normal(loc=0,scale=1,size=(bandit_number,n))\n",
    "\n",
    "#cumulative reward at each episode for chossing an action by probability epsilon\n",
    "avg_reward = np.asmatrix(np.zeros((len(epsilon),t)))\n",
    "avg_reward_greedy = np.asmatrix(np.zeros((len(epsilon),t)))\n",
    "\n",
    "\n",
    "opt_act = np.asmatrix(np.zeros((len(epsilon),t)))\n",
    "opt_act_greedy = np.asmatrix(np.zeros((len(epsilon),t)))\n",
    "\n",
    "#function Bandit taking action and bandit as input, returning reward.\n",
    "def bandit(a,ids):\n",
    "    R = np.random.normal(loc=Q_star[ids,a],scale=1,size=1)\n",
    "    return R"
   ]
  },
  {
   "cell_type": "code",
   "execution_count": 3,
   "metadata": {},
   "outputs": [],
   "source": [
    "#%%A simple bandit algorithm:crappy cleaning\n",
    "for k in range(len(epsilon)):\n",
    "    if (epsilon[k] == 0):\n",
    "        Q = Q_opt.copy()\n",
    "    else :\n",
    "        Q = Q_greedy.copy()\n",
    "    for episode in range(1, t):\n",
    "        local_reward = 0.0\n",
    "        local_reward_greedy = 0.0\n",
    "        action_history = 0.0\n",
    "        action_history_greedy = 0.0\n",
    "        upper_rewards = 0.0\n",
    "        for machine in range(1,bandit_number):\n",
    "            p = np.random.rand()\n",
    "            if p <= epsilon[k]:\n",
    "                a =  np.random.randint(1,high=n)\n",
    "            else:\n",
    "                a = np.argmax(Q[machine,:])\n",
    "\n",
    "            #reward for choosing an action a for corresponding machine\n",
    "            rewards = bandit(a,machine)\n",
    "\n",
    "            #update the estimate\n",
    "            Q[machine,a] = Q[machine,a] + 0.1*(rewards-Q[machine,a])\n",
    "            \n",
    "\n",
    "            #adding the local rewards\n",
    "            \n",
    "\n",
    "            #calculating an optimal action for each bandit\n",
    "            #action_history += (Q[machine,a])/(np.max(Q_star[machine,:]))\n",
    "            if epsilon[k] == 0:\n",
    "                local_reward += rewards\n",
    "                idx = np.argmax(Q_star[machine,:])\n",
    "                action_history += (a==idx)\n",
    "                opt_act[k,episode]= 100*(action_history/bandit_number)\n",
    "            else:\n",
    "                local_reward_greedy += rewards\n",
    "                idx = np.argmax(Q_star[machine,:])\n",
    "                action_history_greedy += (a==idx)\n",
    "                opt_act_greedy[k,episode]= 100*(action_history_greedy/bandit_number)\n"
   ]
  },
  {
   "cell_type": "code",
   "execution_count": 4,
   "metadata": {},
   "outputs": [
    {
     "data": {
      "image/png": "[encoded data removed]",
      "text/plain": [
       "<Figure size 432x288 with 1 Axes>"
      ]
     },
     "metadata": {
      "needs_background": "light"
     },
     "output_type": "display_data"
    }
   ],
   "source": [
    "#%%plot graph for greedy and optimistic initial values\n",
    "for rew in range(len(epsilon)):\n",
    "    if (epsilon[rew] == 0):\n",
    "        line1, = plt.plot(opt_act[rew,:].T,label ='Q = 5 ' + 'Eps = 0 ')\n",
    "        plt.gca().set_yticklabels(['{:.0f}%'.format(x) for x in plt.gca().get_yticks()])\n",
    "        first_legend = plt.legend(handles=[line1], loc=3)\n",
    "        ax = plt.gca().add_artist(first_legend)\n",
    "    else:\n",
    "        line2, = plt.plot(opt_act_greedy[rew,:].T,label = 'Q = 0 ' + 'Eps = 0.1')\n",
    "        plt.gca().set_yticklabels(['{:.0f}%'.format(x) for x in plt.gca().get_yticks()])\n",
    "        plt.legend(handles=[line2], loc=1)\n"
   ]
  },
  {
   "cell_type": "code",
   "execution_count": null,
   "metadata": {},
   "outputs": [],
   "source": []
  }
 ],
 "metadata": {
  "kernelspec": {
   "display_name": "Python 3",
   "language": "python",
   "name": "python3"
  },
  "language_info": {
   "codemirror_mode": {
    "name": "ipython",
    "version": 3
   },
   "file_extension": ".py",
   "mimetype": "text/x-python",
   "name": "python",
   "nbconvert_exporter": "python",
   "pygments_lexer": "ipython3",
   "version": "3.6.8"
  }
 },
 "nbformat": 4,
 "nbformat_minor": 2
}
