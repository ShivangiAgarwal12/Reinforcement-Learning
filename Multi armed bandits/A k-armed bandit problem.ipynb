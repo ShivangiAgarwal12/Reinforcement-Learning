{
 "cells": [
  {
   "cell_type": "markdown",
   "metadata": {},
   "source": [
    "# A k-armed Bandit Problem\n",
    "by __Shivangi Agarwal and Sandeep Banik__ | Reinforcement Learning"
   ]
  },
  {
   "cell_type": "markdown",
   "metadata": {},
   "source": [
    "In a __k-armed bandit__ problem, at every time step the user is faced with a choice of picking one action or choice from $k$ possible actions or options. Each action chosen leads to a reward which is governed by an underlying probability distribution. The objective is to maximize the expected total reward acquired over a given possible time period. \n",
    "Conventionally the k armed bandit is viewed as $k$ arms/levers on a single slot machine, and we as the user want to maximize our total reward over given $N$ possible games. An illustration of a _k-armed bandit_ is as shown in the figure below. "
   ]
  },
  {
   "cell_type": "markdown",
   "metadata": {},
   "source": [
    "<img src=\"RL-k-armed-bandit.png\">"
   ]
  },
  {
   "cell_type": "markdown",
   "metadata": {},
   "source": [
    "_Note_ that the distribution shown is Gaussian distribution. However, it can be any general distribution. The slot machine games starts with $time = 1$, where we play the first game, followed by the second game at $time = 2$ and so on till time = $N$. Here, the time instants represent the $i$th game over $N$ games. We as the user want to ideally pick the arms so as to gain maximum reward (jackpots) over $N$ games played. "
   ]
  },
  {
   "cell_type": "markdown",
   "metadata": {},
   "source": [
    "<img src=\"RL-k-armed-bandit-N-steps.png\">"
   ]
  },
  {
   "cell_type": "markdown",
   "metadata": {},
   "source": [
    "Each action/lever of the possible $k$ levers provide an expected reward. The expected $\\textit{value}$ at the time $t$ of such an action _(a)_ is given by $q_{*}(a)$ defined as,\n",
    "\n",
    "$q_{*}(a) = E[R_{t} | A_{t} = a]$,\n",
    "\n",
    "where $R_{t}$ is the reward at a given time $t$ and $A_{t}$ is the action at the time $t$. However, as shown in the figures above we see that we don't know these distributions and therefore we cannot determine the expected value for a given action $a$.\n",
    "Based on the games being played we can estimate the value of such actions taken which is given by $Q_{t}(a)$, and ideally we want this to be as close to $q_{*}(a)$. "
   ]
  },
  {
   "cell_type": "markdown",
   "metadata": {},
   "source": [
    "## Exploration vs Exploitation"
   ]
  },
  {
   "cell_type": "markdown",
   "metadata": {},
   "source": [
    "At any given time, if estimates of the set of actions are known, and subsequently we choose the one which provides us with largest reward (greedy) it is said that we have $\\textit{exploited}$ the knowledge of system. However, if any non-greedy action is chosen, we classify it as exploring the system. Non-greedy actions can enable us to explore and achieve a better estimates of all the set of actions. This is illustrated in the figure below. Though there is a trade-off between exploration and exploitation. Exploitation maybe beneficial in the short run, however it might be better to explore in the long run. "
   ]
  },
  {
   "cell_type": "markdown",
   "metadata": {},
   "source": [
    "<img src=\"k-armed-bandit-exploitation.png\">"
   ]
  },
  {
   "cell_type": "markdown",
   "metadata": {},
   "source": [
    "<img src=\"k-armed-bandit-exploration.png\">"
   ]
  },
  {
   "cell_type": "markdown",
   "metadata": {},
   "source": [
    "## Action Value Methods"
   ]
  },
  {
   "cell_type": "markdown",
   "metadata": {},
   "source": [
    "The range of methods which use the value of the estimates to make decisions (actions) is collectively called __action value methods__.\n",
    "The natural way of computing the average value at the time $t$ for a given action $a$ is given as,\n",
    "\n",
    "$$\n",
    "\\large\n",
    "\\begin{equation}\n",
    "Q_{t}(a) = \\frac{\\text{Sum of the rewards when chosen the action a before the time t}}{\\text{Number of times action a is chosen}}\\\\\n",
    "{Q_{t}(a) = \\frac{\\sum_{i=1}^{t-1} R_{i}.I_{A_{t=a}}}{\\sum_{i=1}^{t-1}I_{A_{t=a}}}}\n",
    "\\end{equation}\n",
    "$$\n",
    "\n",
    "Where $I$ is the indicator variable corresponding to 1 when the action $a$ was chosen and 0 therwise. When the numerator is zero then $Q_{t}$ takes some default value, and when it goes to infinity, $Q_{t}$ converges to $q_{*}$ by law of large numbers.\n",
    "\n",
    "After estimating $Q$ the greedy action is given as,\n",
    "$$\n",
    "A_{t} = arg \\max_{a} \\ Q_{t}(a)\n",
    "$$\n",
    "This greedy action exploits the system from learned estimates. \n",
    "An alternative of the greedy action is to choose a random action once in a while with a probability of $\\epsilon$. Such methods are called __$\\epsilon$-greedy__ methods."
   ]
  },
  {
   "cell_type": "markdown",
   "metadata": {},
   "source": [
    "## Incremental Implementation"
   ]
  },
  {
   "cell_type": "markdown",
   "metadata": {},
   "source": [
    "The estimates $Q$ at any given time instant $n$ is given by,\n",
    "\n",
    "$\n",
    "\\begin{equation*}\n",
    "\\begin{split}\n",
    "Q_{n+1} & = \\frac{1}{n}\\sum_{i=1}^{n}R_{i} \\\\\n",
    "& = \\frac{1}{n} \\left \\{ R_{n} + \\sum_{i=1}^{n-1}R_{i} \\right \\} \\\\\n",
    "& = \\frac{1}{n} \\left \\{ R_{n} + (n-1)\\frac{1}{n-1}\\sum_{i=1}^{n-1}R_{i} \\right \\} \\\\\n",
    "& = \\frac{1}{n} \\left \\{ R_{n} + (n-1)Q_{n} \\right \\} \\\\\n",
    "& = \\frac{1}{n} \\left \\{ R_{n} + nQ_{n} - Q_{n} \\right \\} \\\\\n",
    "& = Q_{n} + \\frac{1}{n} \\left \\{ R_{n} - Q_{n} \\right \\} \\\\\n",
    "\\end{split}\n",
    "\\end{equation*}\n",
    "$\n",
    "\n",
    "The update is simply given as,\n",
    "\n",
    "$\n",
    "\\text{New_Estimate} = \\text{Old_Estimate} + \\text{Step_Size}\\left \\{\\text{Target} - \\text{Old_Estimate} \\right \\}\n",
    "$"
   ]
  },
  {
   "cell_type": "markdown",
   "metadata": {},
   "source": [
    "## Pseudo Algorithm"
   ]
  },
  {
   "cell_type": "markdown",
   "metadata": {},
   "source": [
    "Let $N(a)$ be the number of times the action $a$ was chosen.\n",
    "\n",
    "Initialization: For all the set of actions i.e., $a=1$ to $k$,\n",
    "\n",
    "$\n",
    "\\begin{equation*}\n",
    "\\begin{split}\n",
    "Q(a) \\leftarrow 0 \\\\\n",
    "N(a) \\leftarrow 0 \\\\\n",
    "\\text{Loop forever:} \\\\\n",
    "& \\text{action probability} \\leftarrow \\text{sample from [0,1)} \\\\\n",
    "& A = \\begin{cases} arg \\max_{a} Q_{a} \\quad \\text{if action probability} \\geq \\epsilon \\\\ \\text{random action} \\quad \\text{otherwise} \\end{cases} \\\\\n",
    "& R \\leftarrow \\textit{bandit(A)} \\\\\n",
    "& N(A) \\leftarrow N(A) + 1 \\\\\n",
    "& Q(A) \\leftarrow Q(A) + \\frac{1}{n}[R(A) - Q(A)]\\\\\n",
    "\\end{split}\n",
    "\\end{equation*}\n",
    "$\n",
    "\n",
    "Here, a bandit refers to the process/machine which takes in the action and gives the reward. For practial purposes, loop is terminated after convergence is achieved. "
   ]
  },
  {
   "cell_type": "markdown",
   "metadata": {},
   "source": [
    "# The 10-armed bandit"
   ]
  },
  {
   "cell_type": "markdown",
   "metadata": {},
   "source": [
    "To provide a working code of the above theory, we test the algorithm in a 10 armed bandit condition. "
   ]
  },
  {
   "cell_type": "markdown",
   "metadata": {},
   "source": [
    "## Imports"
   ]
  },
  {
   "cell_type": "code",
   "execution_count": null,
   "metadata": {},
   "outputs": [],
   "source": [
    "import numpy as np\n",
    "import matplotlib.pyplot as plt"
   ]
  },
  {
   "cell_type": "code",
   "execution_count": 2,
   "metadata": {},
   "outputs": [],
   "source": [
    "#%%Initialisations\n",
    "#total number of bandit arms\n",
    "n = 10\n",
    "\n",
    "#total number of experiments\n",
    "t = 1000\n",
    "\n",
    "#probability of random exploration(fraction)\n",
    "epsilon = []\n",
    "epsilon = [0,0.01,0.1]\n",
    "\n",
    "#number of bandits(episodes)\n",
    "bandit_number = 2000\n",
    "\n",
    "#current value estimate of action\n",
    "Q = np.zeros((bandit_number,n)) \n",
    "\n",
    "#number of times an action was chosen for each bandit\n",
    "N = np.zeros((bandit_number,n)) \n",
    "\n",
    "#optimal action that should be chosen for each bandit\n",
    "a_opt = np.zeros((bandit_number,n)) \n",
    "\n",
    "\n",
    "Q_star = np.random.normal(loc=0,scale=1,size=(bandit_number,n))\n",
    "\n",
    "#cumulative reward at each episode for chossing an action by probability epsilon\n",
    "avg_reward = np.asmatrix(np.zeros((len(epsilon),t)))\n",
    "\n",
    "\n",
    "opt_act = np.asmatrix(np.zeros((len(epsilon),t)))\n",
    "\n",
    "#function Bandit taking action and bandit as input, returning reward.\n",
    "def bandit(a,ids):\n",
    "    R = np.random.normal(loc=Q_star[ids,a],scale=1,size=1)\n",
    "    return R"
   ]
  },
  {
   "cell_type": "code",
   "execution_count": 3,
   "metadata": {},
   "outputs": [],
   "source": [
    "#%%A simple bandit algorithm\n",
    "for k in range(len(epsilon)):\n",
    "    for episode in range(1, t):\n",
    "        local_reward = 0.0\n",
    "        action_history = 0.0\n",
    "        upper_rewards = 0.0\n",
    "        for machine in range(1,bandit_number):\n",
    "            p = np.random.rand()  \n",
    "            if p <= epsilon[k]:      \n",
    "                a =  np.random.randint(1,high=n)\n",
    "            else:\n",
    "                a = np.argmax(Q[machine,:])\n",
    "\n",
    "            #reward for choosing an action a for corresponding machine\n",
    "            rewards = bandit(a,machine)  \n",
    "\n",
    "            #update number of times action was chosen\n",
    "            N[machine,a] = N[machine,a] +1 \n",
    "            \n",
    "            #update the estimate            \n",
    "            Q[machine,a] = Q[machine,a] + (1/N[machine,a])*(rewards-Q[machine,a]) \n",
    "            \n",
    "            #adding the local rewards\n",
    "            local_reward += rewards\n",
    "            \n",
    "            #calculating an optimal action for each bandit\n",
    "            action_history += (Q[machine,a])/(np.max(Q_star[machine,:]))\n",
    "\n",
    "\n",
    "        avg_reward[k,episode] = (local_reward/bandit_number)\n",
    "        opt_act[k,episode]= 100*(action_history/bandit_number)"
   ]
  },
  {
   "cell_type": "code",
   "execution_count": 4,
   "metadata": {},
   "outputs": [
    {
     "data": {
      "image/png": "[encoded data removed]",
      "text/plain": [
       "<Figure size 432x288 with 1 Axes>"
      ]
     },
     "metadata": {
      "needs_background": "light"
     },
     "output_type": "display_data"
    }
   ],
   "source": [
    "#%%plot graphs for average rewards\n",
    "for reward in range(len(epsilon)):\n",
    "    plt.plot(avg_reward[reward,:].T,label = 'Epsilon = ' + str(epsilon[reward]))\n",
    "    plt.xlabel('Steps')\n",
    "    plt.ylabel('Average Rewards')\n",
    "    plt.legend()"
   ]
  },
  {
   "cell_type": "code",
   "execution_count": 5,
   "metadata": {},
   "outputs": [
    {
     "data": {
      "image/png": "[encoded data removed]",
      "text/plain": [
       "<Figure size 432x288 with 1 Axes>"
      ]
     },
     "metadata": {
      "needs_background": "light"
     },
     "output_type": "display_data"
    }
   ],
   "source": [
    "#%%plot graph of percentage of chossing optimal actions\n",
    "for reward1 in range(len(epsilon)):\n",
    "    ax = plt.plot(opt_act[reward1,:].T,label='Epsilon =' + str(epsilon[reward1]))\n",
    "    plt.xlabel('Steps')\n",
    "    plt.gca().set_yticklabels(['{:.0f}%'.format(x) for x in plt.gca().get_yticks()])\n",
    "    plt.ylabel('Optimal Action(%)')\n",
    "    plt.legend()"
   ]
  },
  {
   "cell_type": "code",
   "execution_count": null,
   "metadata": {},
   "outputs": [],
   "source": []
  }
 ],
 "metadata": {
  "kernelspec": {
   "display_name": "Python 3",
   "language": "python",
   "name": "python3"
  },
  "language_info": {
   "codemirror_mode": {
    "name": "ipython",
    "version": 3
   },
   "file_extension": ".py",
   "mimetype": "text/x-python",
   "name": "python",
   "nbconvert_exporter": "python",
   "pygments_lexer": "ipython3",
   "version": "3.6.8"
  }
 },
 "nbformat": 4,
 "nbformat_minor": 2
}
