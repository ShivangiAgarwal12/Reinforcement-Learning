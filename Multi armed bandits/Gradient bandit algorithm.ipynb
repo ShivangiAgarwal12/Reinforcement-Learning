{
 "cells": [
  {
   "cell_type": "markdown",
   "metadata": {},
   "source": [
    "# Gradient Bandit algorithm (A k-armed bandit problem)\n",
    "by  __Sandeep Banik and Shivangi Agarwal__ | Reinforcement Learning"
   ]
  },
  {
   "cell_type": "markdown",
   "metadata": {},
   "source": [
    "All of the pervious methods show some methods of choosing a action based on $Q$ values estimates and some randomness leading to a balance between exploration and exploitation. Here we provide a method to quantitatively prefer an action over the others. This method is not dependent on the $Q$ value estimates and is a result of the rewards gained in choosing an action $a$. Only relative preference matter, therefore any offset values added to all does not deviate from the current preference. The probability of choosing an action is given by the Gibbs distribution as,"
   ]
  },
  {
   "cell_type": "markdown",
   "metadata": {},
   "source": [
    "$$Pr\\{A_{t}=a\\} \\overset{.}{=} \\frac{e^{H_{t}(a)}}{\\sum_{i=1}^{n} e^{H_t(i)}} \\overset{.}{=} \\pi_{t}(a)$$"
   ]
  },
  {
   "cell_type": "markdown",
   "metadata": {},
   "source": [
    "Here $A_{t}$ is action chosen at the time $t$, $H_{t}(a)$ is the numerical preference of choosing an action $a$ at the time t, $\\pi_{t}(a)$ is the probability distribution of choosing an action $a$ at a given time $t$. Initially we would like no preference over any action leading to $H_{0}(a) = 0$ $\\forall a \\in \\{1,2,..n\\}$"
   ]
  },
  {
   "cell_type": "markdown",
   "metadata": {},
   "source": [
    "## Update rule of $H_t(a)$"
   ]
  },
  {
   "cell_type": "markdown",
   "metadata": {},
   "source": [
    "The update rule for the numerical preference is given as, \n",
    "\n",
    "$ H_{t+1}(a) = H_{t}(a) + \\alpha(R_{t} - \\bar{R_t})(1 - \\pi_t(A_t)) \\quad \\quad \\quad \\text{and}$ \n",
    "\n",
    "$ H_{t+1}(a) = H_{t}(a) - \\alpha(R_{t} - \\bar{R_t})\\pi_t(A_t) \\quad \\quad \\quad \\text{for all  } a \\neq A_{t}$\n",
    "\n",
    "where $\\alpha$ is the step size (user defined), $R_{t}$ is the current reward and $\\bar{R_t}$ is the average reward upto the time $t$. \n",
    "As observed the probability distribution changes over time. A small example is illustrated as follows. Consider a machine with 3 actions or arms. Initially we begin with equal preference i.e., $H_0{(a)} = 0$ for $a = 1,2,3$. "
   ]
  },
  {
   "cell_type": "markdown",
   "metadata": {},
   "source": [
    "<img src=\"Images/Gradient bandit - probability.png\">"
   ]
  },
  {
   "cell_type": "markdown",
   "metadata": {},
   "source": [
    "The probability distribution keeps changing over time adjusting to the rewards. The average reward $\\bar{R_{t}}$ serves as a baseline, without which the gradient bandit would fail to perform. \n",
    "\n",
    "When a particular action is chosen the corresponding difference between rewards and average reward ($R_{t} - \\bar{R_{t}}$) either creates a greater preference (when positive) or lowers it (when negative). Similarly this affects other actions as well when the difference ($R_{t} - \\bar{R_{t}}$) is positive the numerical preference lowers and when difference is negtive, preference increases. "
   ]
  },
  {
   "cell_type": "markdown",
   "metadata": {},
   "source": [
    "## Code and analysis"
   ]
  },
  {
   "cell_type": "code",
   "execution_count": 1,
   "metadata": {},
   "outputs": [],
   "source": [
    "#%% Library imports\n",
    "import numpy as np\n",
    "import matplotlib.pyplot as plt"
   ]
  },
  {
   "cell_type": "code",
   "execution_count": 3,
   "metadata": {},
   "outputs": [],
   "source": [
    "#%% Initialisations\n",
    "\n",
    "# Total number of bandit arms\n",
    "n = 10\n",
    "\n",
    "# Total number of experiments\n",
    "t = 1000\n",
    "\n",
    "# Number of bandits(episodes)\n",
    "bandit_number = 2000\n",
    "\n",
    "# Q star values.\n",
    "Q_star = np.random.normal(loc = 4.0, scale = 1.0, size = (bandit_number,n))\n",
    "\n",
    "# Step size.\n",
    "alpha = [0.1,0.4,0.1,0.4]\n",
    "\n",
    "# Baseline\n",
    "base = [1, 1, 0, 0]\n",
    "\n",
    "# Optimal action that should be chosen for each bandit\n",
    "a_opt = np.zeros((len(alpha),t))\n",
    "\n",
    "# Reward for each corresponding alpha and baseline.\n",
    "avg_rew = np.zeros((len(alpha),t))\n",
    "\n",
    "#####################\n",
    "# Bandit or machine\n",
    "#####################\n",
    "\n",
    "def bandit(a, ids):\n",
    "    R = np.random.normal(loc=Q_star[ids,a],scale=1,size=1)\n",
    "    return R"
   ]
  },
  {
   "cell_type": "code",
   "execution_count": 4,
   "metadata": {},
   "outputs": [],
   "source": [
    "#%% Gradient bandit algorithm.\n",
    "for k in range(len(base)):\n",
    "    # Q estimates for each corresponding alpha and baseline.\n",
    "    Q = np.zeros((bandit_number,n))\n",
    "\n",
    "    # Numerical preference of each action for each bandit.\n",
    "    H = np.zeros((bandit_number,n,t+1))\n",
    "\n",
    "    reward_t = np.zeros(bandit_number)\n",
    "\n",
    "    reward_store = np.zeros((bandit_number,t))\n",
    "\n",
    "    for episode in range(1,t):\n",
    "        action_history = 0.0\n",
    "        local_reward = 0.0\n",
    "        for machine in range(bandit_number):\n",
    "            # Cache the exponential sum\n",
    "            exp_sum = np.sum(np.exp(H[machine,:,episode]))\n",
    "\n",
    "            # Probability distribution.\n",
    "            pi_dis = np.exp(H[machine,:,episode])/exp_sum\n",
    "            #pi_store.append(pi_dis)\n",
    "            # Action taken\n",
    "            a = np.random.choice(np.arange(n),p = pi_dis)\n",
    "\n",
    "            # Reward for choosing an action a for corresponding machine\n",
    "            rewards = bandit(a,machine)\n",
    "            local_reward += rewards\n",
    "\n",
    "            Q[machine,a] = Q[machine,a] + 0.1*(rewards-Q[machine,a])\n",
    "\n",
    "            # Calculating an optimal action for each bandit\n",
    "            idx = np.argmax(Q_star[machine,:])\n",
    "\n",
    "            action_history += (a==idx)\n",
    "\n",
    "            # Update the current reward (upto time t), as decribed in section 2.4 (Sutton and Barto)\n",
    "            reward_t[machine] =  reward_t[machine] + 1.0/(episode)*(rewards - reward_t[machine])\n",
    "\n",
    "            reward_store[machine,episode] = rewards\n",
    "            # Baseline check.\n",
    "            if base[k] == 0:\n",
    "                reward_t[machine] = 0\n",
    "\n",
    "           # Update the numerical preference.\n",
    "            H[machine,:,episode+1] = H[machine,:,episode] + \\\n",
    "                            alpha[k]*(rewards - reward_t[machine])*(1 - pi_dis[a])*(np.arange(n)==a) - \\\n",
    "                            alpha[k]*(rewards - reward_t[machine])*(pi_dis)*(np.arange(n)!=a)\n",
    "\n",
    "        a_opt[k,episode]= (action_history/bandit_number)\n",
    "\n",
    "        avg_rew[k,episode] = (local_reward/bandit_number)\n"
   ]
  },
  {
   "cell_type": "code",
   "execution_count": 5,
   "metadata": {},
   "outputs": [
    {
     "data": {
      "text/plain": [
       "<matplotlib.legend.Legend at 0x18e96c936a0>"
      ]
     },
     "execution_count": 5,
     "metadata": {},
     "output_type": "execute_result"
    },
    {
     "data": {
      "image/png": "[encoded data removed]",
      "text/plain": [
       "<Figure size 432x288 with 1 Axes>"
      ]
     },
     "metadata": {
      "needs_background": "light"
     },
     "output_type": "display_data"
    }
   ],
   "source": [
    "#%% Plot graph of percentage of chossing optimal actions\n",
    "\n",
    "act_plt = ['B','B','NB','NB']\n",
    "\n",
    "for k in range(len(alpha)):\n",
    "    plt.plot(a_opt[k,:].T,label = 'alpha = ' + str(alpha[k]) + act_plt[k])\n",
    "plt.xlabel('Time')\n",
    "plt.ylabel('Optimal action')\n",
    "plt.legend()"
   ]
  },
  {
   "cell_type": "code",
   "execution_count": null,
   "metadata": {},
   "outputs": [],
   "source": []
  }
 ],
 "metadata": {
  "kernelspec": {
   "display_name": "Python 3",
   "language": "python",
   "name": "python3"
  },
  "language_info": {
   "codemirror_mode": {
    "name": "ipython",
    "version": 3
   },
   "file_extension": ".py",
   "mimetype": "text/x-python",
   "name": "python",
   "nbconvert_exporter": "python",
   "pygments_lexer": "ipython3",
   "version": "3.6.8"
  }
 },
 "nbformat": 4,
 "nbformat_minor": 2
}
